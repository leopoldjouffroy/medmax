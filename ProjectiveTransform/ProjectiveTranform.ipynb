{
 "cells": [
  {
   "cell_type": "code",
   "execution_count": 8,
   "metadata": {},
   "outputs": [],
   "source": [
    "import numpy as np\n",
    "import matplotlib.pyplot as plt"
   ]
  },
  {
   "cell_type": "code",
   "execution_count": 9,
   "metadata": {},
   "outputs": [
    {
     "name": "stdout",
     "output_type": "stream",
     "text": [
      "[[0 2 0 2]\n",
      " [0 0 1 2]\n",
      " [1 1 1 1]] \n",
      "\n",
      " [[0 2 0 2]\n",
      " [0 0 1 1]\n",
      " [1 1 1 1]]\n"
     ]
    }
   ],
   "source": [
    "n =4\n",
    "\n",
    "# rectangle (homogeneous coordinates)\n",
    "b = np.array([[0,2,0,2],[0,0,1,1],[1,1,1,1]])\n",
    "\n",
    "# trapezoid (homogeneous coordinates)\n",
    "a = np.array([[0,2,0,2],[0,0,1,2],[1,1,1,1]])\n",
    "\n",
    "print(a,'\\n\\n',b)"
   ]
  },
  {
   "cell_type": "code",
   "execution_count": 10,
   "metadata": {},
   "outputs": [
    {
     "data": {
      "image/png": "[encoded data removed]",
      "text/plain": [
       "<Figure size 432x288 with 1 Axes>"
      ]
     },
     "metadata": {
      "needs_background": "light"
     },
     "output_type": "display_data"
    }
   ],
   "source": [
    "plt.plot(a[0,:],a[1,:],'r+')\n",
    "plt.plot(b[0,:],b[1,:],'b+')\n",
    "plt.show()"
   ]
  },
  {
   "cell_type": "code",
   "execution_count": 11,
   "metadata": {},
   "outputs": [
    {
     "name": "stdout",
     "output_type": "stream",
     "text": [
      "[[0. 0. 1.]\n",
      " [0. 0. 0.]\n",
      " [2. 0. 1.]\n",
      " [0. 0. 0.]\n",
      " [0. 1. 1.]\n",
      " [0. 0. 0.]\n",
      " [2. 2. 1.]\n",
      " [0. 0. 0.]]\n",
      "\n",
      " [[0. 0. 0.]\n",
      " [0. 0. 1.]\n",
      " [0. 0. 0.]\n",
      " [2. 0. 1.]\n",
      " [0. 0. 0.]\n",
      " [0. 1. 1.]\n",
      " [0. 0. 0.]\n",
      " [2. 2. 1.]]\n",
      "\n",
      " [[ 0.  0.  0.]\n",
      " [ 0.  0.  0.]\n",
      " [-4.  0. -2.]\n",
      " [ 0.  0.  0.]\n",
      " [ 0.  0.  0.]\n",
      " [ 0. -1. -1.]\n",
      " [-4. -4. -2.]\n",
      " [-2. -2. -1.]]\n"
     ]
    }
   ],
   "source": [
    "# Construct the homography matrix\n",
    "block1 = np.zeros((2*n,3))\n",
    "block1[::2] = np.transpose(a)\n",
    "\n",
    "print(block1)\n",
    "\n",
    "block2 = np.zeros((2*n,3))\n",
    "block2[1::2] = np.transpose(a)\n",
    "\n",
    "print('\\n',block2)\n",
    "\n",
    "block3 = np.zeros((2*n,3))\n",
    "\n",
    "for i in range(n):\n",
    "    block3[2*i,:] =  np.array([-b[0,i]*a[:,i]])\n",
    "    block3[2*i+1,:] = np.array([-b[1,i]*a[:,i]])\n",
    "    \n",
    "print('\\n',block3)\n",
    "    \n",
    "A = np.concatenate((block1,block2,block3),axis=1)"
   ]
  },
  {
   "cell_type": "code",
   "execution_count": 12,
   "metadata": {},
   "outputs": [
    {
     "name": "stdout",
     "output_type": "stream",
     "text": [
      "[ 8.00000000e-01  2.62937106e-16 -3.33807770e-16  1.70887336e-15\n",
      "  4.00000000e-01 -2.09481160e-15  2.00000000e-01  3.90059784e-16\n",
      "  4.00000000e-01]\n",
      "[[ 8.00000000e-01  2.62937106e-16 -3.33807770e-16]\n",
      " [ 1.70887336e-15  4.00000000e-01 -2.09481160e-15]\n",
      " [ 2.00000000e-01  3.90059784e-16  4.00000000e-01]]\n"
     ]
    }
   ],
   "source": [
    "u, s, vh = np.linalg.svd(np.dot(np.transpose(A),A), full_matrices=True)\n",
    "print(u[:,8])\n",
    "\n",
    "v = np.reshape(u[:,8],(3,3))\n",
    "\n",
    "print(v)"
   ]
  },
  {
   "cell_type": "code",
   "execution_count": 37,
   "metadata": {},
   "outputs": [
    {
     "name": "stdout",
     "output_type": "stream",
     "text": [
      "[[-3.33807770e-16  1.60000000e+00 -7.08706646e-17  1.60000000e+00]\n",
      " [-2.09481160e-15  1.32293513e-15  4.00000000e-01  8.00000000e-01]\n",
      " [ 4.00000000e-01  8.00000000e-01  4.00000000e-01  8.00000000e-01]]\n",
      "[[-8.34519425e-16  2.00000000e+00 -1.77176662e-16  2.00000000e+00]\n",
      " [-5.23702901e-15  1.65366891e-15  1.00000000e+00  1.00000000e+00]]\n"
     ]
    }
   ],
   "source": [
    "q = np.dot(v,a)\n",
    "print(q)\n",
    "\n",
    "p = q[2,:];\n",
    "\n",
    "xx = np.divide(q[0,:],p)\n",
    "yy = np.divide(q[1,:],p)\n",
    "\n",
    "y = np.zeros((2,n))\n",
    "y[0,:] = xx\n",
    "y[1,:] = yy\n",
    "\n",
    "print(y)"
   ]
  },
  {
   "cell_type": "code",
   "execution_count": 43,
   "metadata": {},
   "outputs": [
    {
     "data": {
      "image/png": "[encoded data removed]",
      "text/plain": [
       "<Figure size 432x288 with 1 Axes>"
      ]
     },
     "metadata": {
      "needs_background": "light"
     },
     "output_type": "display_data"
    }
   ],
   "source": [
    "plt.plot(q[0,:],q[1,:],'g')\n",
    "plt.plot(a[0,:],a[1,:],'r+')\n",
    "plt.plot(b[0,:],b[1,:],'b+')\n",
    "plt.plot(y[0,:],y[1,:],'ro')\n",
    "plt.show()"
   ]
  }
 ],
 "metadata": {
  "kernelspec": {
   "display_name": "Python 3",
   "language": "python",
   "name": "python3"
  },
  "language_info": {
   "codemirror_mode": {
    "name": "ipython",
    "version": 3
   },
   "file_extension": ".py",
   "mimetype": "text/x-python",
   "name": "python",
   "nbconvert_exporter": "python",
   "pygments_lexer": "ipython3",
   "version": "3.8.5"
  }
 },
 "nbformat": 4,
 "nbformat_minor": 4
}
